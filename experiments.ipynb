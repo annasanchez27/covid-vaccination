{
 "cells": [
  {
   "cell_type": "markdown",
   "metadata": {
    "collapsed": true
   },
   "source": [
    "## Covid"
   ]
  },
  {
   "cell_type": "code",
   "execution_count": 1,
   "metadata": {},
   "outputs": [],
   "source": [
    "import pandas as pd"
   ]
  },
  {
   "cell_type": "markdown",
   "metadata": {},
   "source": [
    "## Get data"
   ]
  },
  {
   "cell_type": "code",
   "execution_count": 17,
   "metadata": {},
   "outputs": [
    {
     "data": {
      "text/html": [
       "<div>\n",
       "<style scoped>\n",
       "    .dataframe tbody tr th:only-of-type {\n",
       "        vertical-align: middle;\n",
       "    }\n",
       "\n",
       "    .dataframe tbody tr th {\n",
       "        vertical-align: top;\n",
       "    }\n",
       "\n",
       "    .dataframe thead th {\n",
       "        text-align: right;\n",
       "    }\n",
       "</style>\n",
       "<table border=\"1\" class=\"dataframe\">\n",
       "  <thead>\n",
       "    <tr style=\"text-align: right;\">\n",
       "      <th></th>\n",
       "      <th>date</th>\n",
       "      <th>people_vaccinated</th>\n",
       "      <th>people_fully_vaccinated</th>\n",
       "      <th>total_vaccinations</th>\n",
       "      <th>vaccine</th>\n",
       "      <th>location</th>\n",
       "      <th>source_url</th>\n",
       "      <th>total_boosters</th>\n",
       "    </tr>\n",
       "  </thead>\n",
       "  <tbody>\n",
       "    <tr>\n",
       "      <th>0</th>\n",
       "      <td>2020-12-27</td>\n",
       "      <td>2451</td>\n",
       "      <td>0</td>\n",
       "      <td>2451</td>\n",
       "      <td>Moderna, Oxford/AstraZeneca, Pfizer/BioNTech</td>\n",
       "      <td>Sweden</td>\n",
       "      <td>https://fohm.se/smittskydd-beredskap/utbrott/a...</td>\n",
       "      <td>NaN</td>\n",
       "    </tr>\n",
       "    <tr>\n",
       "      <th>1</th>\n",
       "      <td>2021-01-03</td>\n",
       "      <td>16234</td>\n",
       "      <td>0</td>\n",
       "      <td>16234</td>\n",
       "      <td>Moderna, Oxford/AstraZeneca, Pfizer/BioNTech</td>\n",
       "      <td>Sweden</td>\n",
       "      <td>https://fohm.se/smittskydd-beredskap/utbrott/a...</td>\n",
       "      <td>NaN</td>\n",
       "    </tr>\n",
       "    <tr>\n",
       "      <th>2</th>\n",
       "      <td>2021-01-10</td>\n",
       "      <td>52171</td>\n",
       "      <td>8</td>\n",
       "      <td>52179</td>\n",
       "      <td>Moderna, Oxford/AstraZeneca, Pfizer/BioNTech</td>\n",
       "      <td>Sweden</td>\n",
       "      <td>https://fohm.se/smittskydd-beredskap/utbrott/a...</td>\n",
       "      <td>NaN</td>\n",
       "    </tr>\n",
       "    <tr>\n",
       "      <th>3</th>\n",
       "      <td>2021-01-17</td>\n",
       "      <td>130872</td>\n",
       "      <td>50</td>\n",
       "      <td>130922</td>\n",
       "      <td>Moderna, Oxford/AstraZeneca, Pfizer/BioNTech</td>\n",
       "      <td>Sweden</td>\n",
       "      <td>https://fohm.se/smittskydd-beredskap/utbrott/a...</td>\n",
       "      <td>NaN</td>\n",
       "    </tr>\n",
       "    <tr>\n",
       "      <th>4</th>\n",
       "      <td>2021-01-24</td>\n",
       "      <td>235918</td>\n",
       "      <td>10779</td>\n",
       "      <td>246697</td>\n",
       "      <td>Moderna, Oxford/AstraZeneca, Pfizer/BioNTech</td>\n",
       "      <td>Sweden</td>\n",
       "      <td>https://fohm.se/smittskydd-beredskap/utbrott/a...</td>\n",
       "      <td>NaN</td>\n",
       "    </tr>\n",
       "  </tbody>\n",
       "</table>\n",
       "</div>"
      ],
      "text/plain": [
       "         date  people_vaccinated  people_fully_vaccinated  total_vaccinations  \\\n",
       "0  2020-12-27               2451                        0                2451   \n",
       "1  2021-01-03              16234                        0               16234   \n",
       "2  2021-01-10              52171                        8               52179   \n",
       "3  2021-01-17             130872                       50              130922   \n",
       "4  2021-01-24             235918                    10779              246697   \n",
       "\n",
       "                                        vaccine location  \\\n",
       "0  Moderna, Oxford/AstraZeneca, Pfizer/BioNTech   Sweden   \n",
       "1  Moderna, Oxford/AstraZeneca, Pfizer/BioNTech   Sweden   \n",
       "2  Moderna, Oxford/AstraZeneca, Pfizer/BioNTech   Sweden   \n",
       "3  Moderna, Oxford/AstraZeneca, Pfizer/BioNTech   Sweden   \n",
       "4  Moderna, Oxford/AstraZeneca, Pfizer/BioNTech   Sweden   \n",
       "\n",
       "                                          source_url  total_boosters  \n",
       "0  https://fohm.se/smittskydd-beredskap/utbrott/a...             NaN  \n",
       "1  https://fohm.se/smittskydd-beredskap/utbrott/a...             NaN  \n",
       "2  https://fohm.se/smittskydd-beredskap/utbrott/a...             NaN  \n",
       "3  https://fohm.se/smittskydd-beredskap/utbrott/a...             NaN  \n",
       "4  https://fohm.se/smittskydd-beredskap/utbrott/a...             NaN  "
      ]
     },
     "execution_count": 17,
     "metadata": {},
     "output_type": "execute_result"
    }
   ],
   "source": [
    "# Vaccines\n",
    "df_vaccines = pd.read_csv('data/vaccination.csv')\n",
    "df_vaccines.head()"
   ]
  },
  {
   "cell_type": "code",
   "execution_count": 9,
   "metadata": {},
   "outputs": [],
   "source": [
    "# Weather\n"
   ]
  },
  {
   "cell_type": "code",
   "execution_count": null,
   "metadata": {},
   "outputs": [],
   "source": []
  }
 ],
 "metadata": {
  "kernelspec": {
   "display_name": "Python 3",
   "language": "python",
   "name": "python3"
  },
  "language_info": {
   "codemirror_mode": {
    "name": "ipython",
    "version": 3
   },
   "file_extension": ".py",
   "mimetype": "text/x-python",
   "name": "python",
   "nbconvert_exporter": "python",
   "pygments_lexer": "ipython3",
   "version": "3.8.5"
  }
 },
 "nbformat": 4,
 "nbformat_minor": 1
}